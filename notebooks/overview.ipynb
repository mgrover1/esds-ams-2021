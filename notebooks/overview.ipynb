{
 "cells": [
  {
   "cell_type": "markdown",
   "id": "8680a19e",
   "metadata": {
    "slideshow": {
     "slide_type": "slide"
    }
   },
   "source": [
    "# \tRethinking CESM Diagnostics through the Lens of Earth System Data Science \n",
    "\n",
    "## Maxwell Grover - National Center for Atmospheric Research\n",
    "\n"
   ]
  },
  {
   "cell_type": "markdown",
   "id": "a2d4e6af",
   "metadata": {
    "slideshow": {
     "slide_type": "subslide"
    }
   },
   "source": [
    "## What's ESDS?\n",
    "* ESDS stands for the Earth System Data Science Initative\n",
    "* "
   ]
  },
  {
   "cell_type": "markdown",
   "id": "cdad4cef",
   "metadata": {
    "slideshow": {
     "slide_type": "slide"
    }
   },
   "source": [
    "# An Overview of the Earth System Data Science Initiative\n",
    "* Started in March 2021\n",
    "* Focused on collaboration around Python workflows"
   ]
  },
  {
   "cell_type": "markdown",
   "id": "0012221a",
   "metadata": {
    "slideshow": {
     "slide_type": "subslide"
    }
   },
   "source": [
    "## Educational Efforts\n",
    "* [Python tutorials](https://github.com/ProjectPythia/pythia-tutorials) every other week\n",
    "* [ESDS Blog Posts](https://ncar.github.io/esds/blog/) roughly once a week\n",
    "* [ESDS Forum Work in Progress Presentations](https://docs.google.com/document/d/13lpcxSWmcdeguchuGxmAG895w1HMQRexCGIxjxDZ8YQ/edit?usp=sharing) where people share their workflows, which spark discussion\n",
    "* Help with development of [Project Pythia](https://projectpythia.org/) - an educational resource for the geoscience community\n",
    "    * [Project Pythia Portal](https://projectpythia.org/)\n",
    "    * [Pythia Foundations Book](https://foundations.projectpythia.org/landing-page.html)\n",
    "* Hold weekly office hours - focused around helping with Python workflows"
   ]
  },
  {
   "cell_type": "markdown",
   "id": "97295fee",
   "metadata": {
    "slideshow": {
     "slide_type": "subslide"
    }
   },
   "source": [
    "## Statistics from ESDS Blog Posts\n",
    "* 52 total posts in 2021\n",
    "    * 14 related to CESM\n",
    "    * 7 related to diagnostics"
   ]
  },
  {
   "cell_type": "markdown",
   "id": "8a450c61",
   "metadata": {
    "slideshow": {
     "slide_type": "subslide"
    }
   },
   "source": [
    "* Best performing post - [\"Reading WRF data into Xarray and Visualizing the Output using hvPlot\"](https://ncar.github.io/esds/posts/2021/xarray-wrf-example/)\n",
    "    * 720 total page views\n",
    "    * Average of 5 minutes spent on the page"
   ]
  },
  {
   "cell_type": "markdown",
   "id": "3a54e5e7",
   "metadata": {
    "slideshow": {
     "slide_type": "subslide"
    }
   },
   "source": [
    "* Worst Performing post(s) - [\"Dask Distributed Summit 2021 Takeaways\"](https://ncar.github.io/esds/posts/2021/dask-summit-takeaway/)\n",
    "    * 1 total page view\n",
    "    * Average of 0 seconds"
   ]
  },
  {
   "cell_type": "markdown",
   "id": "65e6ab79",
   "metadata": {
    "slideshow": {
     "slide_type": "subslide"
    }
   },
   "source": [
    "## Xdev Office Hours Stats\n",
    "* Over the course of the last few months, we have held weekly office hours to help answer questions related to the Python ecosystem\n",
    "* We have helped a total of **45 people**"
   ]
  },
  {
   "cell_type": "markdown",
   "id": "10b57fd3",
   "metadata": {
    "slideshow": {
     "slide_type": "subslide"
    }
   },
   "source": [
    "Here is a summary of the related topics we have helped with \n",
    "<center> <img src=\"office_hour_stats.png\" alt=\"office-hour-stats\" width=\"600\"/> </center>"
   ]
  },
  {
   "cell_type": "markdown",
   "id": "3c2e9453",
   "metadata": {
    "slideshow": {
     "slide_type": "slide"
    }
   },
   "source": [
    "# CESM Diagnostics Prototype\n",
    "* One of our goals is to develop a prototype diagnostics package to investigate output from the Community Earth System Model (CESM), NCAR's flagship climate model\n",
    "* Components of the diagnostics package\n",
    "    * \n"
   ]
  },
  {
   "cell_type": "code",
   "execution_count": null,
   "id": "a450c145",
   "metadata": {},
   "outputs": [],
   "source": []
  }
 ],
 "metadata": {
  "celltoolbar": "Slideshow",
  "kernelspec": {
   "display_name": "Python 3 (ipykernel)",
   "language": "python",
   "name": "python3"
  },
  "language_info": {
   "codemirror_mode": {
    "name": "ipython",
    "version": 3
   },
   "file_extension": ".py",
   "mimetype": "text/x-python",
   "name": "python",
   "nbconvert_exporter": "python",
   "pygments_lexer": "ipython3",
   "version": "3.10.1"
  },
  "rise": {
   "backimage": "ams_2021_background.png"
  }
 },
 "nbformat": 4,
 "nbformat_minor": 5
}
