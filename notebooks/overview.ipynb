{
 "cells": [
  {
   "cell_type": "markdown",
   "id": "8680a19e",
   "metadata": {
    "slideshow": {
     "slide_type": "slide"
    }
   },
   "source": [
    "# \tRethinking CESM Diagnostics through the Lens of Earth System Data Science \n",
    "\n",
    "## Maxwell Grover - National Center for Atmospheric Research\n",
    "\n"
   ]
  },
  {
   "cell_type": "markdown",
   "id": "a2d4e6af",
   "metadata": {
    "slideshow": {
     "slide_type": "subslide"
    }
   },
   "source": [
    "## Subslide\n",
    "* This is the subslide"
   ]
  },
  {
   "cell_type": "code",
   "execution_count": null,
   "id": "260dac8d",
   "metadata": {},
   "outputs": [],
   "source": []
  }
 ],
 "metadata": {
  "celltoolbar": "Slideshow",
  "kernelspec": {
   "display_name": "Python 3 (ipykernel)",
   "language": "python",
   "name": "python3"
  },
  "language_info": {
   "codemirror_mode": {
    "name": "ipython",
    "version": 3
   },
   "file_extension": ".py",
   "mimetype": "text/x-python",
   "name": "python",
   "nbconvert_exporter": "python",
   "pygments_lexer": "ipython3",
   "version": "3.10.1"
  },
  "rise": {
   "backimage": "ams_2021_background.png"
  }
 },
 "nbformat": 4,
 "nbformat_minor": 5
}
